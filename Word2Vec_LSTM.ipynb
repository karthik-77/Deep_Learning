{
  "nbformat": 4,
  "nbformat_minor": 0,
  "metadata": {
    "colab": {
      "name": "Word2Vec_LSTM.ipynb",
      "provenance": [],
      "collapsed_sections": []
    },
    "kernelspec": {
      "name": "python3",
      "display_name": "Python 3"
    },
    "language_info": {
      "name": "python"
    },
    "accelerator": "GPU"
  },
  "cells": [
    {
      "cell_type": "code",
      "metadata": {
        "id": "LMq4HKlMIE2v"
      },
      "source": [
        "import pandas as pd\n",
        "import tensorflow_hub as hub\n",
        "import numpy as np"
      ],
      "execution_count": 21,
      "outputs": []
    },
    {
      "cell_type": "code",
      "metadata": {
        "id": "HMFJN-1zQYlO"
      },
      "source": [
        "from tensorflow.keras.models import Sequential\n",
        "from tensorflow.keras.layers import LSTM,Dense,Activation\n",
        "from tensorflow.keras.optimizers import Adam"
      ],
      "execution_count": 26,
      "outputs": []
    },
    {
      "cell_type": "code",
      "metadata": {
        "id": "sxYHSe78IL4A"
      },
      "source": [
        "embed=hub.load(\"https://tfhub.dev/google/Wiki-words-250/2\")"
      ],
      "execution_count": 3,
      "outputs": []
    },
    {
      "cell_type": "code",
      "metadata": {
        "colab": {
          "base_uri": "https://localhost:8080/"
        },
        "id": "ZG48FlazIL7i",
        "outputId": "e4535bc9-73e8-4f2f-cbe3-0a19061bb053"
      },
      "source": [
        "embed(['friends'])"
      ],
      "execution_count": 5,
      "outputs": [
        {
          "output_type": "execute_result",
          "data": {
            "text/plain": [
              "<tf.Tensor: shape=(1, 250), dtype=float32, numpy=\n",
              "array([[-8.2660869e-02, -1.7848998e-02, -1.0665781e-02,  4.0200830e-02,\n",
              "        -9.8001614e-02,  8.2352221e-02,  1.0365940e-03,  4.6690527e-02,\n",
              "         3.6734596e-02, -5.8365002e-02,  1.4857404e-02,  5.1676743e-02,\n",
              "         5.1263995e-02,  3.0565221e-02, -4.2199274e-03, -1.0558112e-01,\n",
              "         3.5203446e-02,  1.8931816e-04, -5.5870552e-02, -2.2511218e-02,\n",
              "         5.0791752e-02,  2.0086231e-02,  7.3669173e-02,  3.5827946e-02,\n",
              "         5.6499965e-03, -2.7705513e-02,  8.8337675e-02,  6.9989979e-02,\n",
              "        -2.7089190e-02,  1.2496362e-01,  1.2648205e-02,  3.3584066e-02,\n",
              "        -1.8621382e-03, -3.8032766e-02,  3.7724204e-02,  1.6809585e-02,\n",
              "        -1.2898981e-02,  1.2022736e-01,  9.4549716e-02,  3.0786434e-02,\n",
              "         2.6737809e-02, -1.8429162e-01,  1.9299038e-02, -3.6845256e-02,\n",
              "         5.3915819e-03, -1.2482375e-02, -1.0086684e-01,  1.8922809e-01,\n",
              "        -4.9780525e-02, -7.2227843e-02,  1.0012158e-03, -1.0895739e-02,\n",
              "         8.0617838e-02,  1.4689215e-02,  3.0092858e-02,  2.2646820e-02,\n",
              "         5.0131697e-02, -4.1859116e-02,  6.6632956e-02, -3.6519077e-02,\n",
              "        -5.6899760e-02, -4.2186406e-02, -4.2983044e-02,  7.9121053e-02,\n",
              "        -2.7016820e-02, -2.9801715e-03,  8.3858967e-02,  5.2452918e-02,\n",
              "        -7.0889607e-02, -1.7239904e-02,  5.0342243e-02,  2.7937870e-02,\n",
              "        -1.1309752e-02, -6.8430685e-02,  8.5564911e-02, -2.1281680e-03,\n",
              "         4.3428365e-02,  2.4792474e-02, -5.5721890e-02,  3.2988917e-02,\n",
              "         1.2330914e-01,  2.0984961e-03,  4.3071724e-02, -3.9984632e-02,\n",
              "        -1.6173780e-02, -2.1244677e-02, -1.1236715e-01, -1.4997424e-01,\n",
              "        -5.8276787e-02,  5.3879719e-02, -4.8093576e-02, -4.0910698e-02,\n",
              "        -1.7079577e-01, -1.7034177e-02,  6.8371527e-02,  6.3171878e-02,\n",
              "        -3.4684084e-02, -3.6161963e-02,  4.4551317e-02, -7.2206892e-02,\n",
              "         2.4755727e-02,  2.3979831e-02,  1.6669430e-02, -1.2670352e-02,\n",
              "        -6.3933089e-02,  3.4149654e-02, -6.4063810e-02, -2.8027467e-02,\n",
              "        -7.2762165e-03, -2.9870884e-02, -2.8788112e-04,  6.9657214e-02,\n",
              "         4.1638155e-02,  1.7251348e-02, -7.2783224e-02,  4.2790066e-02,\n",
              "         6.8005517e-02, -2.0183867e-01,  1.1734168e-01,  9.0495065e-02,\n",
              "        -1.1934971e-03, -9.0154009e-03,  6.8289049e-02,  1.5334814e-03,\n",
              "         1.2491797e-01, -1.4119858e-01, -5.9772383e-02,  1.0656488e-01,\n",
              "        -4.9157675e-02,  9.1705304e-03, -2.3826715e-02,  1.6845185e-04,\n",
              "        -9.7645730e-02, -1.8368830e-03, -1.6714062e-03,  4.6988237e-03,\n",
              "        -5.2589551e-02, -2.7236303e-02, -5.0313454e-02, -1.4651462e-01,\n",
              "        -3.3954602e-02,  6.5477364e-02, -5.0626104e-03, -5.1246297e-02,\n",
              "         9.4972879e-02, -6.0786340e-02, -1.4467674e-01,  7.6045550e-02,\n",
              "         5.7559810e-03,  4.1934591e-02,  8.4244534e-02, -6.8666050e-03,\n",
              "        -5.7188246e-02,  5.2952994e-02, -4.3218344e-02,  6.6176057e-02,\n",
              "         8.3762057e-02, -9.2110820e-02,  4.9839050e-02, -5.2656546e-02,\n",
              "        -2.4413429e-02,  3.5575647e-02, -4.3733463e-02, -1.5427071e-01,\n",
              "         1.7599486e-02,  9.4424747e-03,  1.5969979e-02,  5.1087588e-02,\n",
              "        -1.6233599e-02,  3.9660070e-02,  1.0197828e-02,  3.8069352e-03,\n",
              "         2.2432648e-02,  3.9738074e-02, -3.3860601e-02,  5.3430326e-02,\n",
              "         9.0982459e-02,  7.4979966e-04,  3.2714833e-02, -5.0319764e-03,\n",
              "        -2.8870288e-02,  4.2865284e-02,  9.7449951e-02,  2.4304351e-02,\n",
              "         1.7777175e-01,  3.0704575e-02, -5.5902120e-02,  5.4567490e-02,\n",
              "        -1.0700790e-01, -7.0042863e-02, -1.5082826e-01,  6.1233636e-02,\n",
              "         5.3429242e-02, -2.8928775e-02, -5.9888188e-02, -1.2847425e-02,\n",
              "         6.8124064e-04, -4.5604791e-02,  3.2466169e-02, -9.0590857e-02,\n",
              "         5.3846575e-03, -8.7615848e-02,  2.2528216e-02, -1.1174577e-01,\n",
              "         2.6778707e-02, -7.5894043e-02, -1.9173851e-02, -1.9577390e-02,\n",
              "         1.5428761e-02, -1.5117237e-02, -3.2667031e-03,  6.2557004e-02,\n",
              "        -2.7073167e-02, -1.2110487e-01,  1.0506166e-01, -3.3622727e-02,\n",
              "         4.3701711e-03,  9.2519678e-02,  1.5440426e-02,  1.3189077e-01,\n",
              "         1.5684675e-02,  4.3126579e-02,  5.2098179e-04, -1.4504015e-03,\n",
              "         5.4872449e-02,  7.0154630e-02,  7.1711945e-03, -5.0499115e-02,\n",
              "         4.7709782e-02,  2.5093486e-03, -9.3318015e-02, -9.2328861e-02,\n",
              "        -4.6468049e-02,  2.8075801e-02, -1.3146412e-02,  9.8337103e-03,\n",
              "        -8.1153460e-02,  3.5328917e-02, -4.1082010e-02,  2.4322852e-02,\n",
              "         2.6469169e-02,  1.1750319e-01, -1.7005755e-02,  8.1415661e-02,\n",
              "        -4.0668998e-02, -7.8414470e-02, -3.7909430e-02, -3.3244453e-02,\n",
              "        -1.3067898e-02, -2.7442506e-02]], dtype=float32)>"
            ]
          },
          "metadata": {
            "tags": []
          },
          "execution_count": 5
        }
      ]
    },
    {
      "cell_type": "code",
      "metadata": {
        "id": "BMjZbCs0IL-6"
      },
      "source": [
        "def get_max_length(df):\n",
        "  max_length=0\n",
        "  for row in df['review']:\n",
        "    text=row.split()\n",
        "    if len(text)> max_length:\n",
        "      max_length=len(text)\n",
        "  return max_length"
      ],
      "execution_count": 7,
      "outputs": []
    },
    {
      "cell_type": "code",
      "metadata": {
        "id": "qjItKvsWIMCR"
      },
      "source": [
        "def get_encoded_review(reviews):\n",
        "  encoded_reviews=[]\n",
        "  for review in reviews:\n",
        "    token=review.split()\n",
        "    encode_text=embed(token)\n",
        "    encoded_reviews.append(encode_text)\n",
        "  return encoded_reviews\n"
      ],
      "execution_count": 19,
      "outputs": []
    },
    {
      "cell_type": "code",
      "metadata": {
        "id": "loS_OqgUIMFz"
      },
      "source": [
        "def pad_encoded_reviews(encoded_reviews,max_length):\n",
        "  pad_encoded=[]\n",
        "  for enc_review in encoded_reviews:\n",
        "    zero_pad_cnt=max_length-enc_review.shape[0]\n",
        "    pad=np.zeros((1,250))\n",
        "    for i in range(zero_pad_cnt):\n",
        "      enc_review=np.concatenate((pad,enc_review),axis=0)\n",
        "    pad_encoded.append(enc_review)\n",
        "  return pad_encoded"
      ],
      "execution_count": 23,
      "outputs": []
    },
    {
      "cell_type": "code",
      "metadata": {
        "id": "Zxct7cPMIMJU"
      },
      "source": [
        "def sentiment_encode(sentiment):\n",
        "  if sentiment == 'positive':\n",
        "    return[1,0]\n",
        "  else:\n",
        "    return[0,1]"
      ],
      "execution_count": 9,
      "outputs": []
    },
    {
      "cell_type": "code",
      "metadata": {
        "id": "D0O-Up0FIMMm"
      },
      "source": [
        "def preprocess(df,max_length):\n",
        "  reviews=df['review'].tolist()\n",
        "  encoded_reviews=get_encoded_review(reviews)\n",
        "  pad_sequence=pad_encoded_reviews(encoded_reviews,max_length)\n",
        "  sentiment_list=df['sentiment'].tolist()\n",
        "  sentiment_encoded=[sentiment_encode(sentiment) for sentiment in sentiment_list]\n",
        "  x=np.array(pad_sequence)\n",
        "  y=np.array(sentiment_encoded)\n",
        "  return x,y"
      ],
      "execution_count": 10,
      "outputs": []
    },
    {
      "cell_type": "code",
      "metadata": {
        "id": "511rakxjIMQY"
      },
      "source": [
        "movie_reviews_train = [\n",
        "         {'review': 'this is the best movie', 'sentiment': 'positive'},\n",
        "         {'review': 'i recommend you watch this movie', 'sentiment': 'positive'},\n",
        "         {'review': 'it was waste of money and time', 'sentiment': 'negative'},\n",
        "         {'review': 'the worst movie ever', 'sentiment': 'negative'}\n",
        "    ]"
      ],
      "execution_count": 11,
      "outputs": []
    },
    {
      "cell_type": "code",
      "metadata": {
        "colab": {
          "base_uri": "https://localhost:8080/",
          "height": 173
        },
        "id": "35Wmm-7wIMT2",
        "outputId": "21f387b2-c65f-4a06-a407-e089924b03e7"
      },
      "source": [
        "df=pd.DataFrame(movie_reviews_train)\n",
        "df"
      ],
      "execution_count": 12,
      "outputs": [
        {
          "output_type": "execute_result",
          "data": {
            "text/html": [
              "<div>\n",
              "<style scoped>\n",
              "    .dataframe tbody tr th:only-of-type {\n",
              "        vertical-align: middle;\n",
              "    }\n",
              "\n",
              "    .dataframe tbody tr th {\n",
              "        vertical-align: top;\n",
              "    }\n",
              "\n",
              "    .dataframe thead th {\n",
              "        text-align: right;\n",
              "    }\n",
              "</style>\n",
              "<table border=\"1\" class=\"dataframe\">\n",
              "  <thead>\n",
              "    <tr style=\"text-align: right;\">\n",
              "      <th></th>\n",
              "      <th>review</th>\n",
              "      <th>sentiment</th>\n",
              "    </tr>\n",
              "  </thead>\n",
              "  <tbody>\n",
              "    <tr>\n",
              "      <th>0</th>\n",
              "      <td>this is the best movie</td>\n",
              "      <td>positive</td>\n",
              "    </tr>\n",
              "    <tr>\n",
              "      <th>1</th>\n",
              "      <td>i recommend you watch this movie</td>\n",
              "      <td>positive</td>\n",
              "    </tr>\n",
              "    <tr>\n",
              "      <th>2</th>\n",
              "      <td>it was waste of money and time</td>\n",
              "      <td>negative</td>\n",
              "    </tr>\n",
              "    <tr>\n",
              "      <th>3</th>\n",
              "      <td>the worst movie ever</td>\n",
              "      <td>negative</td>\n",
              "    </tr>\n",
              "  </tbody>\n",
              "</table>\n",
              "</div>"
            ],
            "text/plain": [
              "                             review sentiment\n",
              "0            this is the best movie  positive\n",
              "1  i recommend you watch this movie  positive\n",
              "2    it was waste of money and time  negative\n",
              "3              the worst movie ever  negative"
            ]
          },
          "metadata": {
            "tags": []
          },
          "execution_count": 12
        }
      ]
    },
    {
      "cell_type": "code",
      "metadata": {
        "colab": {
          "base_uri": "https://localhost:8080/"
        },
        "id": "IiEBluEzIMXc",
        "outputId": "5d70a413-bc7d-4782-b1f2-aac986c0a779"
      },
      "source": [
        "max_length=get_max_length(df)\n",
        "print(\"lenngthiest sequence is------\",max_length)\n",
        "x_train,y_train=preprocess(df,max_length)\n",
        "print(x_train.shape)"
      ],
      "execution_count": 24,
      "outputs": [
        {
          "output_type": "stream",
          "text": [
            "lenngthiest sequence is------ 7\n",
            "(4, 7, 250)\n"
          ],
          "name": "stdout"
        }
      ]
    },
    {
      "cell_type": "code",
      "metadata": {
        "colab": {
          "base_uri": "https://localhost:8080/"
        },
        "id": "jcSEJ0CdIMaz",
        "outputId": "f0acf2bf-6efe-46b1-e692-3dc80ff64335"
      },
      "source": [
        "print(x_train[0])"
      ],
      "execution_count": 25,
      "outputs": [
        {
          "output_type": "stream",
          "text": [
            "[[ 0.          0.          0.         ...  0.          0.\n",
            "   0.        ]\n",
            " [ 0.          0.          0.         ...  0.          0.\n",
            "   0.        ]\n",
            " [-0.04606383 -0.08771229  0.07026413 ...  0.00152413  0.06032765\n",
            "  -0.02329596]\n",
            " ...\n",
            " [-0.03488984 -0.12522927  0.01865043 ... -0.01779286  0.03092172\n",
            "  -0.01291556]\n",
            " [ 0.00653369 -0.01256914 -0.00868887 ... -0.0331819   0.08193181\n",
            "   0.00817045]\n",
            " [-0.04702299  0.01101733 -0.03464236 ...  0.0377473  -0.00763348\n",
            "   0.07064962]]\n"
          ],
          "name": "stdout"
        }
      ]
    },
    {
      "cell_type": "code",
      "metadata": {
        "colab": {
          "base_uri": "https://localhost:8080/"
        },
        "id": "YZzom_xcIMei",
        "outputId": "a8fa4a24-738b-4372-bd3c-ec08e3206704"
      },
      "source": [
        "model=Sequential()\n",
        "model.add(LSTM(32))\n",
        "model.add(Dense(2,activation='softmax'))\n",
        "model.compile(optimizer=Adam(),loss='categorical_crossentropy',metrics=['accuracy'])\n",
        "model.fit(x_train,y_train,epochs=50)"
      ],
      "execution_count": 33,
      "outputs": [
        {
          "output_type": "stream",
          "text": [
            "Epoch 1/50\n",
            "1/1 [==============================] - 1s 1s/step - loss: 0.6967 - accuracy: 0.5000\n",
            "Epoch 2/50\n",
            "1/1 [==============================] - 0s 7ms/step - loss: 0.6856 - accuracy: 0.7500\n",
            "Epoch 3/50\n",
            "1/1 [==============================] - 0s 5ms/step - loss: 0.6747 - accuracy: 1.0000\n",
            "Epoch 4/50\n",
            "1/1 [==============================] - 0s 5ms/step - loss: 0.6638 - accuracy: 1.0000\n",
            "Epoch 5/50\n",
            "1/1 [==============================] - 0s 7ms/step - loss: 0.6529 - accuracy: 1.0000\n",
            "Epoch 6/50\n",
            "1/1 [==============================] - 0s 7ms/step - loss: 0.6420 - accuracy: 1.0000\n",
            "Epoch 7/50\n",
            "1/1 [==============================] - 0s 6ms/step - loss: 0.6308 - accuracy: 1.0000\n",
            "Epoch 8/50\n",
            "1/1 [==============================] - 0s 5ms/step - loss: 0.6194 - accuracy: 1.0000\n",
            "Epoch 9/50\n",
            "1/1 [==============================] - 0s 6ms/step - loss: 0.6077 - accuracy: 1.0000\n",
            "Epoch 10/50\n",
            "1/1 [==============================] - 0s 6ms/step - loss: 0.5956 - accuracy: 1.0000\n",
            "Epoch 11/50\n",
            "1/1 [==============================] - 0s 5ms/step - loss: 0.5831 - accuracy: 1.0000\n",
            "Epoch 12/50\n",
            "1/1 [==============================] - 0s 6ms/step - loss: 0.5702 - accuracy: 1.0000\n",
            "Epoch 13/50\n",
            "1/1 [==============================] - 0s 5ms/step - loss: 0.5568 - accuracy: 1.0000\n",
            "Epoch 14/50\n",
            "1/1 [==============================] - 0s 5ms/step - loss: 0.5430 - accuracy: 1.0000\n",
            "Epoch 15/50\n",
            "1/1 [==============================] - 0s 5ms/step - loss: 0.5286 - accuracy: 1.0000\n",
            "Epoch 16/50\n",
            "1/1 [==============================] - 0s 5ms/step - loss: 0.5138 - accuracy: 1.0000\n",
            "Epoch 17/50\n",
            "1/1 [==============================] - 0s 6ms/step - loss: 0.4984 - accuracy: 1.0000\n",
            "Epoch 18/50\n",
            "1/1 [==============================] - 0s 5ms/step - loss: 0.4825 - accuracy: 1.0000\n",
            "Epoch 19/50\n",
            "1/1 [==============================] - 0s 5ms/step - loss: 0.4661 - accuracy: 1.0000\n",
            "Epoch 20/50\n",
            "1/1 [==============================] - 0s 8ms/step - loss: 0.4493 - accuracy: 1.0000\n",
            "Epoch 21/50\n",
            "1/1 [==============================] - 0s 7ms/step - loss: 0.4321 - accuracy: 1.0000\n",
            "Epoch 22/50\n",
            "1/1 [==============================] - 0s 7ms/step - loss: 0.4145 - accuracy: 1.0000\n",
            "Epoch 23/50\n",
            "1/1 [==============================] - 0s 7ms/step - loss: 0.3967 - accuracy: 1.0000\n",
            "Epoch 24/50\n",
            "1/1 [==============================] - 0s 6ms/step - loss: 0.3785 - accuracy: 1.0000\n",
            "Epoch 25/50\n",
            "1/1 [==============================] - 0s 6ms/step - loss: 0.3602 - accuracy: 1.0000\n",
            "Epoch 26/50\n",
            "1/1 [==============================] - 0s 5ms/step - loss: 0.3418 - accuracy: 1.0000\n",
            "Epoch 27/50\n",
            "1/1 [==============================] - 0s 9ms/step - loss: 0.3234 - accuracy: 1.0000\n",
            "Epoch 28/50\n",
            "1/1 [==============================] - 0s 6ms/step - loss: 0.3049 - accuracy: 1.0000\n",
            "Epoch 29/50\n",
            "1/1 [==============================] - 0s 10ms/step - loss: 0.2866 - accuracy: 1.0000\n",
            "Epoch 30/50\n",
            "1/1 [==============================] - 0s 10ms/step - loss: 0.2683 - accuracy: 1.0000\n",
            "Epoch 31/50\n",
            "1/1 [==============================] - 0s 8ms/step - loss: 0.2501 - accuracy: 1.0000\n",
            "Epoch 32/50\n",
            "1/1 [==============================] - 0s 18ms/step - loss: 0.2321 - accuracy: 1.0000\n",
            "Epoch 33/50\n",
            "1/1 [==============================] - 0s 7ms/step - loss: 0.2143 - accuracy: 1.0000\n",
            "Epoch 34/50\n",
            "1/1 [==============================] - 0s 7ms/step - loss: 0.1968 - accuracy: 1.0000\n",
            "Epoch 35/50\n",
            "1/1 [==============================] - 0s 8ms/step - loss: 0.1796 - accuracy: 1.0000\n",
            "Epoch 36/50\n",
            "1/1 [==============================] - 0s 9ms/step - loss: 0.1629 - accuracy: 1.0000\n",
            "Epoch 37/50\n",
            "1/1 [==============================] - 0s 6ms/step - loss: 0.1467 - accuracy: 1.0000\n",
            "Epoch 38/50\n",
            "1/1 [==============================] - 0s 6ms/step - loss: 0.1311 - accuracy: 1.0000\n",
            "Epoch 39/50\n",
            "1/1 [==============================] - 0s 6ms/step - loss: 0.1164 - accuracy: 1.0000\n",
            "Epoch 40/50\n",
            "1/1 [==============================] - 0s 6ms/step - loss: 0.1025 - accuracy: 1.0000\n",
            "Epoch 41/50\n",
            "1/1 [==============================] - 0s 7ms/step - loss: 0.0897 - accuracy: 1.0000\n",
            "Epoch 42/50\n",
            "1/1 [==============================] - 0s 8ms/step - loss: 0.0780 - accuracy: 1.0000\n",
            "Epoch 43/50\n",
            "1/1 [==============================] - 0s 11ms/step - loss: 0.0674 - accuracy: 1.0000\n",
            "Epoch 44/50\n",
            "1/1 [==============================] - 0s 9ms/step - loss: 0.0580 - accuracy: 1.0000\n",
            "Epoch 45/50\n",
            "1/1 [==============================] - 0s 10ms/step - loss: 0.0497 - accuracy: 1.0000\n",
            "Epoch 46/50\n",
            "1/1 [==============================] - 0s 11ms/step - loss: 0.0424 - accuracy: 1.0000\n",
            "Epoch 47/50\n",
            "1/1 [==============================] - 0s 7ms/step - loss: 0.0362 - accuracy: 1.0000\n",
            "Epoch 48/50\n",
            "1/1 [==============================] - 0s 5ms/step - loss: 0.0310 - accuracy: 1.0000\n",
            "Epoch 49/50\n",
            "1/1 [==============================] - 0s 11ms/step - loss: 0.0265 - accuracy: 1.0000\n",
            "Epoch 50/50\n",
            "1/1 [==============================] - 0s 6ms/step - loss: 0.0227 - accuracy: 1.0000\n"
          ],
          "name": "stdout"
        },
        {
          "output_type": "execute_result",
          "data": {
            "text/plain": [
              "<tensorflow.python.keras.callbacks.History at 0x7f080dfe8f10>"
            ]
          },
          "metadata": {
            "tags": []
          },
          "execution_count": 33
        }
      ]
    },
    {
      "cell_type": "code",
      "metadata": {
        "colab": {
          "base_uri": "https://localhost:8080/"
        },
        "id": "CrsskzcUIMhX",
        "outputId": "5a540845-4aa8-4444-ce62-7f2861772113"
      },
      "source": [
        "model.summary()"
      ],
      "execution_count": 34,
      "outputs": [
        {
          "output_type": "stream",
          "text": [
            "Model: \"sequential_5\"\n",
            "_________________________________________________________________\n",
            "Layer (type)                 Output Shape              Param #   \n",
            "=================================================================\n",
            "lstm_5 (LSTM)                (None, 32)                36224     \n",
            "_________________________________________________________________\n",
            "dense_5 (Dense)              (None, 2)                 66        \n",
            "=================================================================\n",
            "Total params: 36,290\n",
            "Trainable params: 36,290\n",
            "Non-trainable params: 0\n",
            "_________________________________________________________________\n"
          ],
          "name": "stdout"
        }
      ]
    },
    {
      "cell_type": "code",
      "metadata": {
        "id": "6QePWlQjIMlw"
      },
      "source": [
        "movie_reviews_test = [\n",
        "         {'review': 'it is better movie', 'sentiment': 'positive'},\n",
        "         {'review': 'i suggest you see this movie', 'sentiment': 'positive'},\n",
        "         {'review': 'it was just throwing 20 dollars away', 'sentiment': 'negative'},\n",
        "         {'review': 'worse than any show', 'sentiment': 'negative'},\n",
        "         {'review': 'nice movie, so love it', 'sentiment': 'positive'},\n",
        "         {'review': 'terrible', 'sentiment': 'negative'}\n",
        "    ]\n"
      ],
      "execution_count": 35,
      "outputs": []
    },
    {
      "cell_type": "code",
      "metadata": {
        "id": "L8wL3yM4R8JX"
      },
      "source": [
        "test_df = pd.DataFrame(movie_reviews_test)\n",
        "\n",
        "test_X, test_Y = preprocess(test_df,max_length)\n",
        "\n"
      ],
      "execution_count": 37,
      "outputs": []
    },
    {
      "cell_type": "code",
      "metadata": {
        "id": "ftJIzcLlR-pR",
        "outputId": "c2850bcd-ee5d-4da4-c394-d1536136b293",
        "colab": {
          "base_uri": "https://localhost:8080/"
        }
      },
      "source": [
        "score, acc = model.evaluate(test_X, test_Y, verbose=2)\n",
        "print('Test score:', score)\n",
        "print('Test accuracy:', acc)"
      ],
      "execution_count": 38,
      "outputs": [
        {
          "output_type": "stream",
          "text": [
            "1/1 - 0s - loss: 0.1727 - accuracy: 1.0000\n",
            "Test score: 0.17266005277633667\n",
            "Test accuracy: 1.0\n"
          ],
          "name": "stdout"
        }
      ]
    },
    {
      "cell_type": "code",
      "metadata": {
        "id": "0zKDMh6RSGfL"
      },
      "source": [
        ""
      ],
      "execution_count": null,
      "outputs": []
    }
  ]
}